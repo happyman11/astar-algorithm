{
  "nbformat": 4,
  "nbformat_minor": 0,
  "metadata": {
    "colab": {
      "name": "Main_python_file_Astar.ipynb",
      "provenance": []
    },
    "kernelspec": {
      "name": "python3",
      "display_name": "Python 3"
    },
    "accelerator": "GPU"
  },
  "cells": [
    {
      "cell_type": "code",
      "metadata": {
        "id": "yUXJReZhYeCM"
      },
      "source": [
        "import algorithm as AL"
      ],
      "execution_count": 2,
      "outputs": []
    },
    {
      "cell_type": "code",
      "metadata": {
        "id": "X_h3qMx6Y3eS"
      },
      "source": [
        "def main():\n",
        "  \n",
        "  grid = [[0, 0, 0, 0, 1, 0, 0, 0, 0, 0],\n",
        "          [0, 0, 0, 0, 1, 0, 0, 0, 0, 0],\n",
        "          [0, 0, 0, 0, 1, 0, 0, 0, 0, 0],\n",
        "          [0, 0, 0, 0, 1, 0, 0, 0, 0, 0],\n",
        "          [0, 0, 0, 0, 1, 0, 0, 0, 0, 0],\n",
        "          [0, 0, 0, 0, 1, 0, 0, 0, 0, 0],\n",
        "          [0, 0, 0, 0, 1, 0, 0, 0, 0, 0],\n",
        "          [0, 0, 0, 0, 1, 0, 0, 0, 0, 0],\n",
        "          [0, 0, 0, 0, 1, 0, 0, 0, 0, 0],\n",
        "          [0, 0, 0, 0, 0, 0, 0, 0, 0, 0]]\n",
        "    \n",
        "  StartNode = (0, 0)\n",
        "  #change the nend node   \n",
        "  EndNode = (5,2)\n",
        "  print(\"Running...\")\n",
        "  layout = AL.algorithm(grid, StartNode, EndNode)\n",
        "  path_actual=grid\n",
        "    \n",
        "  print(\"Route of Path from start to end to end:\", layout)\n",
        " \n",
        "  \n",
        "  \n",
        "\n",
        "\n",
        "\n",
        "\n",
        "\n",
        "  "
      ],
      "execution_count": 52,
      "outputs": []
    },
    {
      "cell_type": "code",
      "metadata": {
        "colab": {
          "base_uri": "https://localhost:8080/"
        },
        "id": "O-xpxPy9c8TP",
        "outputId": "b318b753-44a8-4d94-dcd0-9978e3cf4695"
      },
      "source": [
        "if __name__ == '__main__':\n",
        "    main()"
      ],
      "execution_count": 51,
      "outputs": [
        {
          "output_type": "stream",
          "text": [
            "Running...\n",
            "Route of Path from start to end to end: [(0, 0), (1, 1), (2, 2), (3, 2), (4, 2), (5, 2)]\n",
            "(0, 0)\n"
          ],
          "name": "stdout"
        }
      ]
    },
    {
      "cell_type": "markdown",
      "metadata": {
        "id": "mAwn_g1AZOGF"
      },
      "source": [
        ""
      ]
    }
  ]
}